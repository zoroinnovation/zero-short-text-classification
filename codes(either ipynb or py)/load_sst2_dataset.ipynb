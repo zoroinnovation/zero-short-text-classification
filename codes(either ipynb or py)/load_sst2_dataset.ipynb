{
 "cells": [
  {
   "cell_type": "code",
   "execution_count": null,
   "id": "88e4eb3d",
   "metadata": {},
   "outputs": [
    {
     "name": "stdout",
     "output_type": "stream",
     "text": [
      "✅ SST-2 Train Shape: (67349, 4)\n",
      "✅ SST-2 Val Shape  : (872, 4)\n"
     ]
    }
   ],
   "source": [
    "import pandas as pd\n",
    "\n",
    "# Load train and val datasets\n",
    "train_df = pd.read_csv(\"data_csv/sst2_train.csv\")\n",
    "val_df = pd.read_csv(\"data_csv/sst2_val.csv\")\n",
    "\n",
    "print(\" SST-2 Train Shape:\", train_df.shape)\n",
    "print(\" SST-2 Val Shape  :\", val_df.shape)\n"
   ]
  },
  {
   "cell_type": "code",
   "execution_count": 2,
   "id": "d26f8746",
   "metadata": {},
   "outputs": [
    {
     "name": "stdout",
     "output_type": "stream",
     "text": [
      "\n",
      " Train Sample:\n",
      "                                            sentence  label  idx  \\\n",
      "0       hide new secretions from the parental units       0    0   \n",
      "1               contains no wit , only labored gags       0    1   \n",
      "2  that loves its characters and communicates som...      1    2   \n",
      "3  remains utterly satisfied to remain the same t...      0    3   \n",
      "4  on the worst revenge-of-the-nerds clichés the ...      0    4   \n",
      "\n",
      "                                                text  \n",
      "0        hide new secretions from the parental units  \n",
      "1                  contains no wit only labored gags  \n",
      "2  that loves its characters and communicates som...  \n",
      "3  remains utterly satisfied to remain the same t...  \n",
      "4  on the worst revengeofthenerds clichs the film...  \n",
      "\n",
      " Label Distribution in Train:\n",
      "label\n",
      "1    37569\n",
      "0    29780\n",
      "Name: count, dtype: int64\n"
     ]
    }
   ],
   "source": [
    "print(\"\\n Train Sample:\")\n",
    "print(train_df.head())\n",
    "\n",
    "print(\"\\n Label Distribution in Train:\")\n",
    "print(train_df[\"label\"].value_counts())\n"
   ]
  },
  {
   "cell_type": "code",
   "execution_count": 3,
   "id": "85f6869b",
   "metadata": {},
   "outputs": [],
   "source": [
    "train_df[\"label_text\"] = train_df[\"label\"].map({1: \"Positive\", 0: \"Negative\"})\n",
    "val_df[\"label_text\"] = val_df[\"label\"].map({1: \"Positive\", 0: \"Negative\"})\n"
   ]
  },
  {
   "cell_type": "code",
   "execution_count": 4,
   "id": "e2276b51",
   "metadata": {},
   "outputs": [
    {
     "name": "stdout",
     "output_type": "stream",
     "text": [
      "\n",
      " Missing values in train: sentence      0\n",
      "label         0\n",
      "idx           0\n",
      "text          2\n",
      "label_text    0\n",
      "dtype: int64\n",
      " Empty rows: 0\n"
     ]
    }
   ],
   "source": [
    "print(\"\\n Missing values in train:\", train_df.isnull().sum())\n",
    "print(\" Empty rows:\", (train_df[\"text\"].str.strip() == \"\").sum())\n"
   ]
  },
  {
   "cell_type": "code",
   "execution_count": 5,
   "id": "044c8dd4",
   "metadata": {},
   "outputs": [
    {
     "name": "stdout",
     "output_type": "stream",
     "text": [
      "Cleaned missing/empty text rows\n"
     ]
    }
   ],
   "source": [
    "# Drop rows with missing text\n",
    "train_df = train_df.dropna(subset=[\"text\"])\n",
    "train_df = train_df[train_df[\"text\"].str.strip() != \"\"]\n",
    "\n",
    "print(\"Cleaned missing/empty text rows\")\n"
   ]
  },
  {
   "cell_type": "code",
   "execution_count": 6,
   "id": "76cef5b8",
   "metadata": {},
   "outputs": [
    {
     "name": "stdout",
     "output_type": "stream",
     "text": [
      "Cleaned files saved.\n"
     ]
    }
   ],
   "source": [
    "train_df.to_csv(\"data_csv/sst2_train_cleaned.csv\", index=False)\n",
    "val_df.to_csv(\"data_csv/sst2_val_cleaned.csv\", index=False)\n",
    "print(\"Cleaned files saved.\")\n"
   ]
  },
  {
   "cell_type": "code",
   "execution_count": 7,
   "id": "485453b4",
   "metadata": {},
   "outputs": [
    {
     "name": "stdout",
     "output_type": "stream",
     "text": [
      "\n",
      " SST-2 Verification Summary:\n",
      "Train: 67347 samples | Positives: 37568 | Negatives: 29779\n",
      "Val:   872 samples   | Positives: 444 | Negatives: 428\n"
     ]
    }
   ],
   "source": [
    "print(\"\\n SST-2 Verification Summary:\")\n",
    "print(f\"Train: {len(train_df)} samples | Positives: {(train_df['label'] == 1).sum()} | Negatives: {(train_df['label'] == 0).sum()}\")\n",
    "print(f\"Val:   {len(val_df)} samples   | Positives: {(val_df['label'] == 1).sum()} | Negatives: {(val_df['label'] == 0).sum()}\")\n"
   ]
  },
  {
   "cell_type": "code",
   "execution_count": null,
   "id": "f66c87fc",
   "metadata": {},
   "outputs": [],
   "source": []
  }
 ],
 "metadata": {
  "kernelspec": {
   "display_name": "Python (py_3)",
   "language": "python",
   "name": "venv"
  },
  "language_info": {
   "codemirror_mode": {
    "name": "ipython",
    "version": 3
   },
   "file_extension": ".py",
   "mimetype": "text/x-python",
   "name": "python",
   "nbconvert_exporter": "python",
   "pygments_lexer": "ipython3",
   "version": "3.12.8"
  }
 },
 "nbformat": 4,
 "nbformat_minor": 5
}
