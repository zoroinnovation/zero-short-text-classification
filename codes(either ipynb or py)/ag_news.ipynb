{
 "cells": [
  {
   "cell_type": "code",
   "execution_count": 16,
   "id": "682fb9d3",
   "metadata": {},
   "outputs": [
    {
     "name": "stdout",
     "output_type": "stream",
     "text": [
      "✅ Tokenizer loaded!\n"
     ]
    }
   ],
   "source": [
    "from datasets import load_dataset\n",
    "import pandas as pd\n",
    "import re\n",
    "import string\n",
    "# Import tokenizer\n",
    "from transformers import AutoTokenizer\n",
    "\n",
    "# Load the tokenizer for FLAN-T5 (same model we're using)\n",
    "tokenizer = AutoTokenizer.from_pretrained(\"google/flan-t5-base\")\n",
    "print(\"✅ Tokenizer loaded!\")"
   ]
  },
  {
   "cell_type": "code",
   "execution_count": 17,
   "id": "ef77dfe7",
   "metadata": {},
   "outputs": [
    {
     "name": "stdout",
     "output_type": "stream",
     "text": [
      "Train shape: (120000, 2)\n",
      "Test shape: (7600, 2)\n"
     ]
    }
   ],
   "source": [
    "ag_news = load_dataset(\"ag_news\")\n",
    "train_df = pd.DataFrame(ag_news['train'])\n",
    "test_df = pd.DataFrame(ag_news['test'])\n",
    "\n",
    "print(f\"Train shape: {train_df.shape}\")\n",
    "print(f\"Test shape: {test_df.shape}\")"
   ]
  },
  {
   "cell_type": "code",
   "execution_count": 18,
   "id": "9a011a82",
   "metadata": {},
   "outputs": [
    {
     "data": {
      "text/html": [
       "<div>\n",
       "<style scoped>\n",
       "    .dataframe tbody tr th:only-of-type {\n",
       "        vertical-align: middle;\n",
       "    }\n",
       "\n",
       "    .dataframe tbody tr th {\n",
       "        vertical-align: top;\n",
       "    }\n",
       "\n",
       "    .dataframe thead th {\n",
       "        text-align: right;\n",
       "    }\n",
       "</style>\n",
       "<table border=\"1\" class=\"dataframe\">\n",
       "  <thead>\n",
       "    <tr style=\"text-align: right;\">\n",
       "      <th></th>\n",
       "      <th>text</th>\n",
       "      <th>label</th>\n",
       "    </tr>\n",
       "  </thead>\n",
       "  <tbody>\n",
       "    <tr>\n",
       "      <th>0</th>\n",
       "      <td>Wall St. Bears Claw Back Into the Black (Reute...</td>\n",
       "      <td>2</td>\n",
       "    </tr>\n",
       "    <tr>\n",
       "      <th>1</th>\n",
       "      <td>Carlyle Looks Toward Commercial Aerospace (Reu...</td>\n",
       "      <td>2</td>\n",
       "    </tr>\n",
       "    <tr>\n",
       "      <th>2</th>\n",
       "      <td>Oil and Economy Cloud Stocks' Outlook (Reuters...</td>\n",
       "      <td>2</td>\n",
       "    </tr>\n",
       "    <tr>\n",
       "      <th>3</th>\n",
       "      <td>Iraq Halts Oil Exports from Main Southern Pipe...</td>\n",
       "      <td>2</td>\n",
       "    </tr>\n",
       "    <tr>\n",
       "      <th>4</th>\n",
       "      <td>Oil prices soar to all-time record, posing new...</td>\n",
       "      <td>2</td>\n",
       "    </tr>\n",
       "  </tbody>\n",
       "</table>\n",
       "</div>"
      ],
      "text/plain": [
       "                                                text  label\n",
       "0  Wall St. Bears Claw Back Into the Black (Reute...      2\n",
       "1  Carlyle Looks Toward Commercial Aerospace (Reu...      2\n",
       "2  Oil and Economy Cloud Stocks' Outlook (Reuters...      2\n",
       "3  Iraq Halts Oil Exports from Main Southern Pipe...      2\n",
       "4  Oil prices soar to all-time record, posing new...      2"
      ]
     },
     "execution_count": 18,
     "metadata": {},
     "output_type": "execute_result"
    }
   ],
   "source": [
    "train_df.head()"
   ]
  },
  {
   "cell_type": "code",
   "execution_count": 19,
   "id": "1fbc579b",
   "metadata": {},
   "outputs": [
    {
     "name": "stdout",
     "output_type": "stream",
     "text": [
      "SST-2 loaded!\n",
      "Train: 67349 samples\n",
      "Test: 1821 samples\n"
     ]
    }
   ],
   "source": [
    "sst2 = load_dataset(\"glue\", \"sst2\")\n",
    "print(\"SST-2 loaded!\")\n",
    "print(f\"Train: {len(sst2['train'])} samples\")\n",
    "print(f\"Test: {len(sst2['test'])} samples\")"
   ]
  },
  {
   "cell_type": "code",
   "execution_count": 20,
   "id": "35a34c34",
   "metadata": {},
   "outputs": [
    {
     "name": "stdout",
     "output_type": "stream",
     "text": [
      "Columns: ['sentence', 'label', 'idx']\n"
     ]
    },
    {
     "data": {
      "text/html": [
       "<div>\n",
       "<style scoped>\n",
       "    .dataframe tbody tr th:only-of-type {\n",
       "        vertical-align: middle;\n",
       "    }\n",
       "\n",
       "    .dataframe tbody tr th {\n",
       "        vertical-align: top;\n",
       "    }\n",
       "\n",
       "    .dataframe thead th {\n",
       "        text-align: right;\n",
       "    }\n",
       "</style>\n",
       "<table border=\"1\" class=\"dataframe\">\n",
       "  <thead>\n",
       "    <tr style=\"text-align: right;\">\n",
       "      <th></th>\n",
       "      <th>sentence</th>\n",
       "      <th>label</th>\n",
       "      <th>idx</th>\n",
       "    </tr>\n",
       "  </thead>\n",
       "  <tbody>\n",
       "    <tr>\n",
       "      <th>0</th>\n",
       "      <td>uneasy mishmash of styles and genres .</td>\n",
       "      <td>-1</td>\n",
       "      <td>0</td>\n",
       "    </tr>\n",
       "    <tr>\n",
       "      <th>1</th>\n",
       "      <td>this film 's relationship to actual tension is...</td>\n",
       "      <td>-1</td>\n",
       "      <td>1</td>\n",
       "    </tr>\n",
       "    <tr>\n",
       "      <th>2</th>\n",
       "      <td>by the end of no such thing the audience , lik...</td>\n",
       "      <td>-1</td>\n",
       "      <td>2</td>\n",
       "    </tr>\n",
       "    <tr>\n",
       "      <th>3</th>\n",
       "      <td>director rob marshall went out gunning to make...</td>\n",
       "      <td>-1</td>\n",
       "      <td>3</td>\n",
       "    </tr>\n",
       "    <tr>\n",
       "      <th>4</th>\n",
       "      <td>lathan and diggs have considerable personal ch...</td>\n",
       "      <td>-1</td>\n",
       "      <td>4</td>\n",
       "    </tr>\n",
       "  </tbody>\n",
       "</table>\n",
       "</div>"
      ],
      "text/plain": [
       "                                            sentence  label  idx\n",
       "0             uneasy mishmash of styles and genres .     -1    0\n",
       "1  this film 's relationship to actual tension is...     -1    1\n",
       "2  by the end of no such thing the audience , lik...     -1    2\n",
       "3  director rob marshall went out gunning to make...     -1    3\n",
       "4  lathan and diggs have considerable personal ch...     -1    4"
      ]
     },
     "execution_count": 20,
     "metadata": {},
     "output_type": "execute_result"
    }
   ],
   "source": [
    "# Convert SST-2 to DataFrame\n",
    "sst2_train_df = pd.DataFrame(sst2['train'])\n",
    "sst2_test_df = pd.DataFrame(sst2['test'])\n",
    "\n",
    "print(f\"Columns: {sst2_train_df.columns.tolist()}\")\n",
    "sst2_test_df.head()"
   ]
  },
  {
   "cell_type": "code",
   "execution_count": 22,
   "id": "acfc0f97",
   "metadata": {},
   "outputs": [
    {
     "name": "stdout",
     "output_type": "stream",
     "text": [
      "Testing tokenization on 3 samples:\n",
      "\n",
      "Sample 1:\n",
      "Original text: Wall St. Bears Claw Back Into the Black (Reuters) Reuters - Short-sellers, Wall Street's dwindling\\b...\n",
      "Token IDs shape: torch.Size([1, 49])\n",
      "Number of tokens: 49\n",
      "First 10 tokens: tensor([ 3556,   472,     5,  9034,     7,   205,  4207,  3195,     3, 27201])\n",
      "\n",
      "Sample 2:\n",
      "Original text: Carlyle Looks Toward Commercial Aerospace (Reuters) Reuters - Private investment firm Carlyle Group,...\n",
      "Token IDs shape: torch.Size([1, 66])\n",
      "Number of tokens: 66\n",
      "First 10 tokens: tensor([ 1184,   120,   109,  3568,     7,     3, 28318,  9747, 12727,  6633])\n",
      "\n",
      "Sample 3:\n",
      "Original text: Oil and Economy Cloud Stocks' Outlook (Reuters) Reuters - Soaring crude prices plus worries\\about th...\n",
      "Token IDs shape: torch.Size([1, 55])\n",
      "Number of tokens: 55\n",
      "First 10 tokens: tensor([ 6067,    11, 22077,  5713,  6394,     7,    31, 19269,    41, 18844])\n"
     ]
    }
   ],
   "source": [
    "# Test tokenization on a few samples\n",
    "sample_texts = train_df['text'].head(3).tolist()\n",
    "\n",
    "print(\"Testing tokenization on 3 samples:\")\n",
    "for i, text in enumerate(sample_texts):\n",
    "    # Tokenize the text\n",
    "    tokens = tokenizer(text, return_tensors=\"pt\", truncation=True, max_length=512)\n",
    "    \n",
    "    print(f\"\\nSample {i+1}:\")\n",
    "    print(f\"Original text: {text[:100]}...\")\n",
    "    print(f\"Token IDs shape: {tokens['input_ids'].shape}\")\n",
    "    print(f\"Number of tokens: {tokens['input_ids'].shape[1]}\")\n",
    "    print(f\"First 10 tokens: {tokens['input_ids'][0][:10]}\")"
   ]
  },
  {
   "cell_type": "code",
   "execution_count": 23,
   "id": "12b2497c",
   "metadata": {},
   "outputs": [
    {
     "name": "stdout",
     "output_type": "stream",
     "text": [
      "Testing batch tokenization...\n",
      "Batch shape: torch.Size([10, 104])\n",
      "Processed 10 texts at once!\n",
      "✅ Tokenization testing completed!\n"
     ]
    }
   ],
   "source": [
    "# Test batch tokenization for efficiency\n",
    "print(\"Testing batch tokenization...\")\n",
    "\n",
    "# Take a small batch of texts\n",
    "batch_texts = train_df['text'].head(10).tolist()\n",
    "\n",
    "# Tokenize the whole batch at once\n",
    "batch_tokens = tokenizer(batch_texts, \n",
    "                        return_tensors=\"pt\", \n",
    "                        truncation=True, \n",
    "                        max_length=512,\n",
    "                        padding=True)\n",
    "\n",
    "print(f\"Batch shape: {batch_tokens['input_ids'].shape}\")\n",
    "print(f\"Processed {len(batch_texts)} texts at once!\")\n",
    "print(\"✅ Tokenization testing completed!\")"
   ]
  }
 ],
 "metadata": {
  "kernelspec": {
   "display_name": "Python 3",
   "language": "python",
   "name": "python3"
  },
  "language_info": {
   "codemirror_mode": {
    "name": "ipython",
    "version": 3
   },
   "file_extension": ".py",
   "mimetype": "text/x-python",
   "name": "python",
   "nbconvert_exporter": "python",
   "pygments_lexer": "ipython3",
   "version": "3.12.10"
  }
 },
 "nbformat": 4,
 "nbformat_minor": 5
}
