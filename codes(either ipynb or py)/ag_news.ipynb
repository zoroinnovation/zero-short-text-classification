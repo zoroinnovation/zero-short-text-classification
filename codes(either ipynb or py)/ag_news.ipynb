{
 "cells": [
  {
   "cell_type": "markdown",
   "id": "22c282d6",
   "metadata": {},
   "source": [
    "# 📊 Evaluation & Visualization - AG News (FLAN-T5) - Fixed Version"
   ]
  },
  {
   "cell_type": "code",
   "execution_count": 1,
   "id": "1de207c1",
   "metadata": {},
   "outputs": [
    {
     "name": "stdout",
     "output_type": "stream",
     "text": [
      "Model loaded on cpu\n"
     ]
    }
   ],
   "source": [
    "import torch\n",
    "from transformers import AutoTokenizer, AutoModelForSeq2SeqLM\n",
    "import pandas as pd\n",
    "from tqdm import tqdm\n",
    "import re\n",
    "import os\n",
    "from sklearn.metrics import accuracy_score, precision_recall_fscore_support, confusion_matrix\n",
    "import matplotlib.pyplot as plt\n",
    "import seaborn as sns\n",
    "from datasets import load_dataset\n",
    "\n",
    "model_name = \"google/flan-t5-large\"\n",
    "tokenizer = AutoTokenizer.from_pretrained(model_name)\n",
    "model = AutoModelForSeq2SeqLM.from_pretrained(model_name)\n",
    "\n",
    "# Move model to device\n",
    "device = torch.device(\"cuda\" if torch.cuda.is_available() else \"cpu\")\n",
    "model = model.to(device)\n",
    "print(f\"Model loaded on {device}\")\n"
   ]
  },
  {
   "cell_type": "code",
   "execution_count": 2,
   "id": "951179ab",
   "metadata": {},
   "outputs": [
    {
     "name": "stdout",
     "output_type": "stream",
     "text": [
      "✅ Extracted Prompt Template:\n",
      " Direct Classification Style\n",
      "Classify the following news article into one of these categories: World, Sports, Business, or Science/Technology.\n",
      "Article: \"{news_article}\"\n",
      "Respond with exactly one word: World, Sports, Business, or Science/Technology.\n",
      "Answer:\n"
     ]
    }
   ],
   "source": [
    "dataset = load_dataset(\"ag_news\")\n",
    "labels_map = {0: \"World\", 1: \"Sports\", 2: \"Business\", 3: \"Sci/Tech\"}\n",
    "\n",
    "def load_prompt_template(path, template_number=1):\n",
    "    with open(path, \"r\", encoding=\"utf-8\") as f:\n",
    "        content = f.read()\n",
    "    \n",
    "    # Match \"Template {number}: ...\" and capture until the next \"Template\" or EOF\n",
    "    pattern = rf\"Template {template_number}:(.*?)(?:Template \\d+:|$)\"\n",
    "    match = re.search(pattern, content, re.DOTALL | re.IGNORECASE)\n",
    "    \n",
    "    if not match:\n",
    "        raise ValueError(f\"❌ Template {template_number} not found\")\n",
    "    \n",
    "    raw_prompt = match.group(1).strip()\n",
    "    \n",
    "    # Remove leading/trailing ======= and comments\n",
    "    cleaned_lines = [\n",
    "        line for line in raw_prompt.splitlines()\n",
    "        if line.strip() and not line.strip().startswith(\"#\") and not line.strip().startswith(\"=\")\n",
    "    ]\n",
    "    \n",
    "    return \"\\n\".join(cleaned_lines).strip()\n",
    "\n",
    "# Load prompt template\n",
    "prompt_template = load_prompt_template(r\"c:\\Users\\pnsri\\Documents\\Zoro_Innovations\\Project-2\\zero-short-text-classification\\prompts\\ag_news\\ag_prompt_templates.txt\", template_number=1)\n",
    "print(\"✅ Extracted Prompt Template:\\n\", prompt_template)\n",
    "\n",
    "def generate_prompt(text):\n",
    "    return prompt_template.replace(\"{news_article}\", text)\n",
    "\n",
    "def flan_predict(prompt):\n",
    "    inputs = tokenizer(prompt, return_tensors=\"pt\", truncation=True, padding=True).to(device)\n",
    "    outputs = model.generate(**inputs, max_new_tokens=10)\n",
    "    return tokenizer.decode(outputs[0], skip_special_tokens=True)\n"
   ]
  },
  {
   "cell_type": "code",
   "execution_count": null,
   "id": "16c01fbd",
   "metadata": {},
   "outputs": [
    {
     "name": "stdout",
     "output_type": "stream",
     "text": [
      "🚀 Starting predictions...\n"
     ]
    },
    {
     "name": "stderr",
     "output_type": "stream",
     "text": [
      "  0%|          | 0/100 [00:00<?, ?it/s]"
     ]
    },
    {
     "name": "stderr",
     "output_type": "stream",
     "text": [
      "100%|██████████| 100/100 [01:44<00:00,  1.04s/it]"
     ]
    },
    {
     "name": "stdout",
     "output_type": "stream",
     "text": [
      "Total predictions: 100\n",
      "✅ Predictions saved to c:\\Users\\pnsri\\Documents\\Zoro_Innovations\\Project-2\\zero-short-text-classification\\outputs\\ag_news\\ag_news_predictions.csv\n"
     ]
    },
    {
     "name": "stderr",
     "output_type": "stream",
     "text": [
      "\n"
     ]
    }
   ],
   "source": [
    "test_data = dataset[\"test\"].select(range(100))  # Process 500 samples\n",
    "predictions = []\n",
    "\n",
    "print(\"🚀 Starting predictions...\")\n",
    "for row in tqdm(test_data):\n",
    "    text = row[\"text\"]\n",
    "    true_label = row[\"label\"]\n",
    "    \n",
    "    prompt = generate_prompt(text)\n",
    "    output = flan_predict(prompt)\n",
    "    \n",
    "    # Clean and normalize prediction\n",
    "    response = output.strip().lower()\n",
    "    \n",
    "    # Clean multiline output\n",
    "    lines = [line.strip() for line in response.splitlines() if line.strip()]\n",
    "    if lines:\n",
    "        response = lines[-1]\n",
    "    \n",
    "    # Remove punctuation\n",
    "    response = response.replace(\".\", \"\").replace(\":\", \"\").strip()\n",
    "    \n",
    "    # Normalize prediction based on AG News categories\n",
    "    pred = \"Unknown\"\n",
    "    if \"world\" in response:\n",
    "        pred = \"World\"\n",
    "    elif \"sports\" in response or \"sport\" in response:\n",
    "        pred = \"Sports\"\n",
    "    elif \"business\" in response:\n",
    "        pred = \"Business\"\n",
    "    elif \"sci\" in response or \"tech\" in response or \"science\" in response or \"technology\" in response:\n",
    "        pred = \"Sci/Tech\"\n",
    "    \n",
    "    predictions.append({\n",
    "        \"text\": text,\n",
    "        \"true_label\": labels_map[true_label],\n",
    "        \"prediction\": pred\n",
    "    })\n",
    "\n",
    "# Create DataFrame and save predictions\n",
    "result_df = pd.DataFrame(predictions)\n",
    "print(f\"Total predictions: {len(result_df)}\")\n",
    "\n",
    "# Save predictions CSV\n",
    "predictions_file = r\"c:\\Users\\pnsri\\Documents\\Zoro_Innovations\\Project-2\\zero-short-text-classification\\outputs\\ag_news\\ag_news_predictions.csv\"\n",
    "result_df.to_csv(predictions_file, index=False)\n",
    "print(f\"✅ Predictions saved to {predictions_file}\")\n",
    "\n",
    "\n"
   ]
  },
  {
   "cell_type": "code",
   "execution_count": 7,
   "id": "4ad32f5d",
   "metadata": {},
   "outputs": [
    {
     "name": "stdout",
     "output_type": "stream",
     "text": [
      "\n",
      "📊 Metrics:\n",
      "Accuracy: 0.8500\n",
      "Precision: 0.8386\n",
      "Recall: 0.8798\n",
      "F1 Score: 0.8357\n",
      "✅ Metrics saved to ../outputs/ag_news/metrics.csv\n"
     ]
    },
    {
     "data": {
      "image/png": "[encoded data removed]",
      "text/plain": [
       "<Figure size 800x600 with 2 Axes>"
      ]
     },
     "metadata": {},
     "output_type": "display_data"
    },
    {
     "name": "stdout",
     "output_type": "stream",
     "text": [
      "✅ Confusion matrix saved to ../outputs/ag_news/agnews_confusion_matrix.png\n",
      "\n",
      "🎉 AG News classification completed!\n"
     ]
    }
   ],
   "source": [
    "filtered_df = result_df[result_df[\"prediction\"] != \"Unknown\"]\n",
    "if len(filtered_df) > 0:\n",
    "    acc = accuracy_score(filtered_df[\"true_label\"], filtered_df[\"prediction\"])\n",
    "    precision, recall, f1, _ = precision_recall_fscore_support(\n",
    "        filtered_df[\"true_label\"], filtered_df[\"prediction\"], \n",
    "        average=\"macro\", zero_division=0\n",
    "    )\n",
    "    \n",
    "    print(f\"\\n📊 Metrics:\")\n",
    "    print(f\"Accuracy: {acc:.4f}\")\n",
    "    print(f\"Precision: {precision:.4f}\")\n",
    "    print(f\"Recall: {recall:.4f}\")\n",
    "    print(f\"F1 Score: {f1:.4f}\")\n",
    "    \n",
    "    # Save metrics to CSV\n",
    "    metrics_file = \"../outputs/ag_news/metrics.csv\"\n",
    "    metrics_df = pd.DataFrame({\n",
    "        \"Metric\": [\"Accuracy\", \"Precision\", \"Recall\", \"F1 Score\"],\n",
    "        \"Value\": [acc, precision, recall, f1]\n",
    "    })\n",
    "    metrics_df.to_csv(metrics_file, index=False)\n",
    "    print(f\"✅ Metrics saved to {metrics_file}\")\n",
    "    \n",
    "    # Create confusion matrix\n",
    "    cm = confusion_matrix(\n",
    "        filtered_df[\"true_label\"], \n",
    "        filtered_df[\"prediction\"], \n",
    "        labels=list(labels_map.values())\n",
    "    )\n",
    "    \n",
    "    plt.figure(figsize=(8, 6))\n",
    "    sns.heatmap(cm, annot=True, fmt=\"d\", cmap=\"Blues\",\n",
    "                xticklabels=labels_map.values(),\n",
    "                yticklabels=labels_map.values())\n",
    "    plt.xlabel(\"Predicted\")\n",
    "    plt.ylabel(\"True\")\n",
    "    plt.title(\"Confusion Matrix - AG News (FLAN-T5)\")\n",
    "    \n",
    "    confusion_matrix_file = \"../outputs/ag_news/agnews_confusion_matrix.png\"\n",
    "    plt.savefig(confusion_matrix_file)\n",
    "    plt.show()\n",
    "    print(f\"✅ Confusion matrix saved to {confusion_matrix_file}\")\n",
    "\n",
    "else:\n",
    "    print(\"❌ No valid predictions found for metrics calculation\")\n",
    "\n",
    "print(\"\\n🎉 AG News classification completed!\")"
   ]
  },
  {
   "cell_type": "code",
   "execution_count": null,
   "id": "673c7c8f",
   "metadata": {},
   "outputs": [],
   "source": []
  }
 ],
 "metadata": {
  "kernelspec": {
   "display_name": "Python 3",
   "language": "python",
   "name": "python3"
  },
  "language_info": {
   "codemirror_mode": {
    "name": "ipython",
    "version": 3
   },
   "file_extension": ".py",
   "mimetype": "text/x-python",
   "name": "python",
   "nbconvert_exporter": "python",
   "pygments_lexer": "ipython3",
   "version": "3.12.10"
  }
 },
 "nbformat": 4,
 "nbformat_minor": 5
}
