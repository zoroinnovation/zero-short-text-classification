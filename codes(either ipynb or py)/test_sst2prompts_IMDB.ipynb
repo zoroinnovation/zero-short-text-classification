{
 "cells": [
  {
   "cell_type": "code",
   "execution_count": 4,
   "id": "e297a12a",
   "metadata": {},
   "outputs": [],
   "source": [
    "from transformers import BertTokenizer, BertForSequenceClassification\n",
    "import torch\n",
    "import pandas as pd\n",
    "from transformers import BertTokenizer, BertForSequenceClassification\n",
    "from datasets import load_dataset\n"
   ]
  },
  {
   "cell_type": "code",
   "execution_count": 2,
   "id": "d16dae8b",
   "metadata": {},
   "outputs": [],
   "source": [
    "device = torch.device(\"cuda\" if torch.cuda.is_available() else \"cpu\")\n"
   ]
  },
  {
   "cell_type": "code",
   "execution_count": 6,
   "id": "fee1bea3",
   "metadata": {},
   "outputs": [],
   "source": [
    "\n",
    "model_path = r\"D:\\Zoro_project2\\zero-short-text-classification\\models\\bert_sst2_model\"\n",
    "model = BertForSequenceClassification.from_pretrained(model_path).to(device)\n",
    "tokenizer = BertTokenizer.from_pretrained(model_path)\n"
   ]
  },
  {
   "cell_type": "code",
   "execution_count": 7,
   "id": "e05aca42",
   "metadata": {},
   "outputs": [
    {
     "name": "stderr",
     "output_type": "stream",
     "text": [
      "d:\\Zoro_project2\\zero-short-text-classification\\py_3\\Lib\\site-packages\\huggingface_hub\\file_download.py:143: UserWarning: `huggingface_hub` cache-system uses symlinks by default to efficiently store duplicated files but your machine does not support them in C:\\Users\\Jyoti\\.cache\\huggingface\\hub\\datasets--imdb. Caching files will still work but in a degraded version that might require more space on your disk. This warning can be disabled by setting the `HF_HUB_DISABLE_SYMLINKS_WARNING` environment variable. For more details, see https://huggingface.co/docs/huggingface_hub/how-to-cache#limitations.\n",
      "To support symlinks on Windows, you either need to activate Developer Mode or to run Python as an administrator. In order to activate developer mode, see this article: https://docs.microsoft.com/en-us/windows/apps/get-started/enable-your-device-for-development\n",
      "  warnings.warn(message)\n",
      "Generating train split: 100%|██████████| 25000/25000 [00:00<00:00, 53702.24 examples/s]\n",
      "Generating test split: 100%|██████████| 25000/25000 [00:00<00:00, 102158.57 examples/s]\n",
      "Generating unsupervised split: 100%|██████████| 50000/50000 [00:00<00:00, 94818.84 examples/s] \n"
     ]
    }
   ],
   "source": [
    "# Load IMDb dataset\n",
    "imdb = load_dataset(\"imdb\")\n",
    "test_data = imdb[\"test\"].shuffle(seed=42).select(range(50))   # sample 50 for quick test\n",
    "\n"
   ]
  },
  {
   "cell_type": "code",
   "execution_count": 8,
   "id": "70bb3bda",
   "metadata": {},
   "outputs": [],
   "source": [
    "# Zero-Shot Prediction\n",
    "def predict_zero_shot(text):\n",
    "    inputs = tokenizer(text, return_tensors=\"pt\", truncation=True, padding=True, max_length=256).to(device)\n",
    "    with torch.no_grad():\n",
    "        outputs = model(**inputs)\n",
    "        probs = torch.softmax(outputs.logits, dim=-1)\n",
    "        pred = torch.argmax(probs, dim=-1).item()\n",
    "    return \"positive\" if pred == 1 else \"negative\"\n",
    "\n",
    "zero_shot_results = []\n",
    "for example in test_data:\n",
    "    zero_shot_results.append({\n",
    "        \"text\": example[\"text\"][:200] + \"...\",\n",
    "        \"true_label\": \"positive\" if example[\"label\"]==1 else \"negative\",\n",
    "        \"pred_label\": predict_zero_shot(example[\"text\"])\n",
    "    })\n",
    "df_zero = pd.DataFrame(zero_shot_results)\n",
    "df_zero.to_csv(r\"D:\\Zoro_project2\\zero-short-text-classification\\outputs\\sst2\\zero_shot_predictions_imdb.csv\", index=False)\n"
   ]
  },
  {
   "cell_type": "code",
   "execution_count": null,
   "id": "07d63b59",
   "metadata": {},
   "outputs": [
    {
     "name": "stdout",
     "output_type": "stream",
     "text": [
      " Few-shot predictions saved as few_shot_predictions_imdb.csv\n"
     ]
    }
   ],
   "source": [
    "#  Few-Shot Predictions\n",
    "\n",
    "few_shot_examples = [\n",
    "    (\"This movie was fantastic, I loved it!\", \"positive\"),\n",
    "    (\"The film was terrible and boring.\", \"negative\"),\n",
    "    (\"An amazing story with great acting.\", \"positive\"),\n",
    "]\n",
    "\n",
    "def predict_few_shot(text, examples=few_shot_examples):\n",
    "    # Note: BERT is discriminative, not generative → examples don’t change input encoding\n",
    "    inputs = tokenizer(text, return_tensors=\"pt\", truncation=True, padding=True, max_length=256).to(device)\n",
    "    with torch.no_grad():\n",
    "        outputs = model(**inputs)\n",
    "        probs = torch.softmax(outputs.logits, dim=-1)\n",
    "        pred = torch.argmax(probs, dim=-1).item()\n",
    "    return \"positive\" if pred == 1 else \"negative\"\n",
    "\n",
    "few_shot_results = []\n",
    "for example in test_data:\n",
    "    few_shot_results.append({\n",
    "        \"text\": example[\"text\"][:200] + \"...\",\n",
    "        \"true_label\": \"positive\" if example[\"label\"]==1 else \"negative\",\n",
    "        \"pred_label\": predict_few_shot(example[\"text\"]) \n",
    "    })  \n",
    "\n",
    "df_few = pd.DataFrame(few_shot_results)\n",
    "df_few.to_csv(r\"D:\\Zoro_project2\\zero-short-text-classification\\outputs\\sst2\\few_shot_predictions_imdb.csv\", index=False)\n",
    "print(\" Few-shot predictions saved as few_shot_predictions_imdb.csv\")\n"
   ]
  },
  {
   "cell_type": "code",
   "execution_count": 10,
   "id": "09b54049",
   "metadata": {},
   "outputs": [
    {
     "name": "stdout",
     "output_type": "stream",
     "text": [
      "🎯 Zero-Shot Accuracy: 0.96\n",
      "🎯 Few-Shot Accuracy: 0.96\n"
     ]
    }
   ],
   "source": [
    "#  Accuracy Comparison\n",
    "\n",
    "zero_acc = (df_zero[\"true_label\"] == df_zero[\"pred_label\"]).mean()\n",
    "few_acc = (df_few[\"true_label\"] == df_few[\"pred_label\"]).mean()\n",
    "\n",
    "print(f\"🎯 Zero-Shot Accuracy: {zero_acc:.2f}\")\n",
    "print(f\"🎯 Few-Shot Accuracy: {few_acc:.2f}\")"
   ]
  }
 ],
 "metadata": {
  "kernelspec": {
   "display_name": "Python (py_3)",
   "language": "python",
   "name": "venv"
  },
  "language_info": {
   "codemirror_mode": {
    "name": "ipython",
    "version": 3
   },
   "file_extension": ".py",
   "mimetype": "text/x-python",
   "name": "python",
   "nbconvert_exporter": "python",
   "pygments_lexer": "ipython3",
   "version": "3.12.8"
  }
 },
 "nbformat": 4,
 "nbformat_minor": 5
}
