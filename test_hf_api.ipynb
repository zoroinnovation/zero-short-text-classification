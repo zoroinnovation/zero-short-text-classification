{
 "cells": [
  {
   "cell_type": "code",
   "execution_count": 1,
   "metadata": {},
   "outputs": [
    {
     "name": "stderr",
     "output_type": "stream",
     "text": [
      "c:\\Users\\hi\\AppData\\Local\\Programs\\Python\\Python310\\lib\\site-packages\\tqdm\\auto.py:21: TqdmWarning: IProgress not found. Please update jupyter and ipywidgets. See https://ipywidgets.readthedocs.io/en/stable/user_install.html\n",
      "  from .autonotebook import tqdm as notebook_tqdm\n"
     ]
    },
    {
     "name": "stdout",
     "output_type": "stream",
     "text": [
      "HF_API_TOKEN: [REMOVED_HF_TOKEN]\n",
      "Text: \"I love this product!\" -> Sentiment: POSITIVE\n",
      "Text: \"The service was terrible.\" -> Sentiment: NEGATIVE\n",
      "Text: \"It is okay, nothing special.\" -> Sentiment: NEGATIVE\n"
     ]
    }
   ],
   "source": [
    "import os\n",
    "from huggingface_hub import InferenceClient\n",
    "\n",
    "# Debug: print to check if the environment variable is loaded (remove in production)\n",
    "print(\"HF_API_TOKEN:\", os.getenv(\"HF_API_TOKEN\"))\n",
    "\n",
    "# Get your Hugging Face API token from environment variables\n",
    "api_token = os.getenv(\"HF_API_TOKEN\")\n",
    "\n",
    "if not api_token:\n",
    "    raise ValueError(\"HF_API_TOKEN not set\")\n",
    "\n",
    "# Initialize the client with the token\n",
    "client = InferenceClient(token=api_token)\n",
    "\n",
    "def classify_sentiment(text):\n",
    "    response = client.text_classification(text)\n",
    "    # Pick the label with the highest score\n",
    "    best_label = max(response, key=lambda x: x.score).label\n",
    "    return best_label\n",
    "\n",
    "texts = [\n",
    "    \"I love this product!\",\n",
    "    \"The service was terrible.\",\n",
    "    \"It is okay, nothing special.\"\n",
    "]\n",
    "\n",
    "for text in texts:\n",
    "    result = classify_sentiment(text)\n",
    "    print(f'Text: \"{text}\" -> Sentiment: {result}')\n"
   ]
  }
 ],
 "metadata": {
  "kernelspec": {
   "display_name": "Python 3",
   "language": "python",
   "name": "python3"
  },
  "language_info": {
   "codemirror_mode": {
    "name": "ipython",
    "version": 3
   },
   "file_extension": ".py",
   "mimetype": "text/x-python",
   "name": "python",
   "nbconvert_exporter": "python",
   "pygments_lexer": "ipython3",
   "version": "3.10.1"
  }
 },
 "nbformat": 4,
 "nbformat_minor": 2
}
